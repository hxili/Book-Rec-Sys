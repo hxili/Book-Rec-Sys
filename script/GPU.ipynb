{
 "cells": [
  {
   "cell_type": "code",
   "execution_count": 15,
   "id": "dbfaa8ee-7a47-42fa-9162-f330eb98c672",
   "metadata": {
    "execution": {
     "iopub.execute_input": "2024-01-01T17:55:54.674373Z",
     "iopub.status.busy": "2024-01-01T17:55:54.674018Z",
     "iopub.status.idle": "2024-01-01T17:55:55.436570Z",
     "shell.execute_reply": "2024-01-01T17:55:55.436036Z",
     "shell.execute_reply.started": "2024-01-01T17:55:54.674352Z"
    },
    "tags": []
   },
   "outputs": [
    {
     "name": "stdout",
     "output_type": "stream",
     "text": [
      "Ratings Data Loaded\n",
      "   user_id  book_id  rating\n",
      "0        1      258       5\n",
      "1        2     4081       4\n",
      "2        2      260       5\n",
      "3        2     9296       5\n",
      "4        2     2318       3\n"
     ]
    }
   ],
   "source": [
    "import pandas as pd\n",
    "import numpy as np\n",
    "import torch\n",
    "from scipy.sparse import coo_matrix\n",
    "import os\n",
    "\n",
    "d = '/mnt/workspace/Book-Rec-Sys/input/dataset'\n",
    "o = '/mnt/workspace/Book-Rec-Sys/output'\n",
    "\n",
    "def load_data():\n",
    "    ratings = pd.read_csv(f'{d}/ratings.csv')\n",
    "    print(\"Ratings Data Loaded\")\n",
    "    print(ratings.head())\n",
    "    return ratings\n",
    "\n",
    "ratings = load_data()\n",
    "\n",
    "num_users = ratings['user_id'].max()\n",
    "num_books = ratings['book_id'].max()"
   ]
  },
  {
   "cell_type": "code",
   "execution_count": 16,
   "id": "fcc97b93-c5fb-4e00-8ad9-0523393e5f97",
   "metadata": {
    "execution": {
     "iopub.execute_input": "2024-01-01T17:55:57.630939Z",
     "iopub.status.busy": "2024-01-01T17:55:57.630581Z",
     "iopub.status.idle": "2024-01-01T17:55:57.685569Z",
     "shell.execute_reply": "2024-01-01T17:55:57.685018Z",
     "shell.execute_reply.started": "2024-01-01T17:55:57.630918Z"
    },
    "tags": []
   },
   "outputs": [],
   "source": [
    "# Convert to a sparse matrix\n",
    "rows = ratings['user_id'] - 1\n",
    "cols = ratings['book_id'] - 1\n",
    "values = ratings['rating']\n",
    "rating_matrix = coo_matrix((values, (rows, cols)), shape=(num_users, num_books))"
   ]
  },
  {
   "cell_type": "code",
   "execution_count": 20,
   "id": "9d3a854c-f541-4bc7-8ac6-a83a32aed11c",
   "metadata": {
    "ExecutionIndicator": {
     "show": true
    },
    "execution": {
     "iopub.execute_input": "2024-01-01T17:57:45.875815Z",
     "iopub.status.busy": "2024-01-01T17:57:45.875113Z",
     "iopub.status.idle": "2024-01-01T17:57:45.884722Z",
     "shell.execute_reply": "2024-01-01T17:57:45.884072Z",
     "shell.execute_reply.started": "2024-01-01T17:57:45.875780Z"
    },
    "tags": []
   },
   "outputs": [],
   "source": [
    "def matrix_factorization(R, K, steps=5, alpha=0.0002, beta=0.02, save_interval=500, output_dir='output', device='cuda'):\n",
    "    R = torch.FloatTensor(R.toarray()).to(device)\n",
    "    num_users, num_books = R.shape\n",
    "    P = torch.rand(num_users, K, device=device)\n",
    "    Q = torch.rand(num_books, K, device=device).T\n",
    "\n",
    "    for step in range(steps):\n",
    "        for i in range(num_users):\n",
    "            rated_indices = R[i, :].nonzero().view(-1)\n",
    "            Q_i = Q[:, rated_indices]\n",
    "            R_i = R[i, rated_indices]\n",
    "            e_i = R_i - torch.matmul(P[i, :], Q_i)\n",
    "            P[i, :] += alpha * (torch.matmul(e_i, Q_i.T) - beta * P[i, :])\n",
    "\n",
    "        for j in range(num_books):\n",
    "            rated_indices = R[:, j].nonzero().view(-1)\n",
    "            P_j = P[rated_indices, :]\n",
    "            R_j = R[rated_indices, j]\n",
    "            e_j = R_j - torch.matmul(P_j, Q[:, j])\n",
    "            Q[:, j] += alpha * (torch.matmul(P_j.T, e_j) - beta * Q[:, j])\n",
    "\n",
    "        eR = torch.matmul(P, Q)\n",
    "        e = torch.sum((R[R > 0] - eR[R > 0]) ** 2)\n",
    "        e += beta / 2 * (torch.sum(P ** 2) + torch.sum(Q ** 2))\n",
    "        \n",
    "        # Save P and Q every 'save_interval' steps\n",
    "        if step % save_interval == 0 or step == steps - 1:\n",
    "            torch.save(P, os.path.join(output_dir, f'P_step_{step}.pt'))\n",
    "            torch.save(Q, os.path.join(output_dir, f'Q_step_{step}.pt'))\n",
    "            print(f'Saved P and Q at step {step}')\n",
    "\n",
    "        if e < 0.001:\n",
    "            break\n",
    "\n",
    "    return P, Q.T"
   ]
  },
  {
   "cell_type": "code",
   "execution_count": 21,
   "id": "0cd17e94-3e32-4ae8-b71a-532f56f03e5e",
   "metadata": {
    "ExecutionIndicator": {
     "show": true
    },
    "execution": {
     "iopub.execute_input": "2024-01-01T17:57:47.894657Z",
     "iopub.status.busy": "2024-01-01T17:57:47.894314Z",
     "iopub.status.idle": "2024-01-01T17:58:42.670016Z",
     "shell.execute_reply": "2024-01-01T17:58:42.669471Z",
     "shell.execute_reply.started": "2024-01-01T17:57:47.894634Z"
    },
    "tags": []
   },
   "outputs": [
    {
     "name": "stdout",
     "output_type": "stream",
     "text": [
      "Saved P and Q at step 0\n",
      "Saved P and Q at step 4\n",
      "Prediction Error: 2.3262786865234375\n"
     ]
    }
   ],
   "source": [
    "K = 2\n",
    "\n",
    "# Run the matrix factorization\n",
    "device = torch.device('cuda' if torch.cuda.is_available() else 'cpu')\n",
    "P, Q = matrix_factorization(rating_matrix, K, device=device, output_dir=o)\n",
    "\n",
    "\n",
    "predicted_ratings = torch.matmul(P, Q.T)\n",
    "actual_ratings = torch.FloatTensor(rating_matrix.toarray()).to(device)  # Convert to PyTorch tensor\n",
    "mask = actual_ratings > 0\n",
    "\n",
    "# Ensure both tensors are on the same device before subtraction\n",
    "error = torch.sqrt(torch.mean((actual_ratings[mask] - predicted_ratings[mask]) ** 2))\n",
    "\n",
    "print(\"Prediction Error:\", error.item())  # Convert to Python scalar for printing"
   ]
  }
 ],
 "metadata": {
  "kernelspec": {
   "display_name": "Python 3 (ipykernel)",
   "language": "python",
   "name": "python3"
  },
  "language_info": {
   "codemirror_mode": {
    "name": "ipython",
    "version": 3
   },
   "file_extension": ".py",
   "mimetype": "text/x-python",
   "name": "python",
   "nbconvert_exporter": "python",
   "pygments_lexer": "ipython3",
   "version": "3.10.13"
  }
 },
 "nbformat": 4,
 "nbformat_minor": 5
}
