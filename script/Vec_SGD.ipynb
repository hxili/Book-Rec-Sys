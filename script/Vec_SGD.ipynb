{
 "cells": [
  {
   "cell_type": "code",
   "execution_count": 2,
   "id": "f2d13b1c-5a4b-418d-ac93-c69221e02286",
   "metadata": {
    "ExecutionIndicator": {
     "show": true
    },
    "execution": {
     "iopub.execute_input": "2024-01-01T16:14:15.211591Z",
     "iopub.status.busy": "2024-01-01T16:14:15.211248Z",
     "iopub.status.idle": "2024-01-01T16:19:06.070276Z",
     "shell.execute_reply": "2024-01-01T16:19:06.069174Z",
     "shell.execute_reply.started": "2024-01-01T16:14:15.211563Z"
    },
    "tags": []
   },
   "outputs": [
    {
     "name": "stdout",
     "output_type": "stream",
     "text": [
      "Ratings Data Loaded\n",
      "   user_id  book_id  rating\n",
      "0        1      258       5\n",
      "1        2     4081       4\n",
      "2        2      260       5\n",
      "3        2     9296       5\n",
      "4        2     2318       3\n",
      "Saved P and Q at iteration 0\n",
      "Prediction Error: 4.053971476650242\n"
     ]
    }
   ],
   "source": [
    "import pandas as pd\n",
    "import numpy as np\n",
    "import os  # For path operations\n",
    "\n",
    "\n",
    "def load_data(d):\n",
    "    # Load Ratings Data\n",
    "    ratings = pd.read_csv(f'{d}/ratings.csv')\n",
    "    print(\"Ratings Data Loaded\")\n",
    "    print(ratings.head())\n",
    "    return ratings\n",
    "    \n",
    "    \n",
    "# SGD-based Matrix Factorization with saving mechanism\n",
    "def sgd_matrix_factorization(R, K, iterations, alpha, beta, save_interval, output_dir):\n",
    "    num_users, num_books = R.shape\n",
    "    P = np.random.normal(scale=1./K, size=(num_users, K))\n",
    "    Q = np.random.normal(scale=1./K, size=(num_books, K))\n",
    "\n",
    "    for iteration in range(iterations):\n",
    "        for i in range(num_users):\n",
    "            for j in range(num_books):\n",
    "                if R[i, j] > 0:\n",
    "                    eij = R[i, j] - np.dot(P[i, :], Q[j, :].T)\n",
    "                    P[i, :] += alpha * (eij * Q[j, :] - beta * P[i, :])\n",
    "                    Q[j, :] += alpha * (eij * P[i, :] - beta * Q[j, :])\n",
    "\n",
    "        # Save P and Q every 'save_interval' iterations\n",
    "        if iteration % save_interval == 0:\n",
    "            np.savetxt(os.path.join(output_dir, f'P_iteration_{iteration}.csv'), P, delimiter=',')\n",
    "            np.savetxt(os.path.join(output_dir, f'Q_iteration_{iteration}.csv'), Q, delimiter=',')\n",
    "            print(f'Saved P and Q at iteration {iteration}')\n",
    "\n",
    "    return P, Q\n",
    "\n",
    "# Main\n",
    "def main():\n",
    "    d = '/mnt/workspace/Book-Rec-Sys/input/dataset'\n",
    "    o = '/mnt/workspace/Book-Rec-Sys/output'\n",
    "\n",
    "    # Ensure the output directory exists\n",
    "    if not os.path.exists(o):\n",
    "        os.makedirs(o)\n",
    "\n",
    "    # Load and prepare data\n",
    "    ratings = load_data(d)\n",
    "\n",
    "    num_users = ratings['user_id'].max()\n",
    "    num_books = ratings['book_id'].max()\n",
    "\n",
    "    rating_matrix = np.zeros((num_users, num_books))\n",
    "    for row in ratings.itertuples():\n",
    "        rating_matrix[row.user_id - 1, row.book_id - 1] = row.rating\n",
    "\n",
    "    # Matrix factorization parameters\n",
    "    K = 2\n",
    "    iterations = 1\n",
    "    alpha = 0.0002\n",
    "    beta = 0.02\n",
    "    save_interval = 20  # Save every 20 iterations\n",
    "\n",
    "    # Perform matrix factorization using SGD\n",
    "    P, Q = sgd_matrix_factorization(rating_matrix, K, iterations, alpha, beta, save_interval, o)\n",
    "\n",
    "    # Prediction and Error Calculation\n",
    "    predicted_ratings = np.dot(P, Q.T)\n",
    "    actual_ratings = rating_matrix[np.where(rating_matrix > 0)]\n",
    "    predicted_ratings = predicted_ratings[np.where(rating_matrix > 0)]\n",
    "    error = np.sqrt(np.mean((actual_ratings - predicted_ratings) ** 2))\n",
    "\n",
    "    print(\"Prediction Error:\", error)\n",
    "\n",
    "# Run the main function\n",
    "main()"
   ]
  }
 ],
 "metadata": {
  "kernelspec": {
   "display_name": "Python 3 (ipykernel)",
   "language": "python",
   "name": "python3"
  },
  "language_info": {
   "codemirror_mode": {
    "name": "ipython",
    "version": 3
   },
   "file_extension": ".py",
   "mimetype": "text/x-python",
   "name": "python",
   "nbconvert_exporter": "python",
   "pygments_lexer": "ipython3",
   "version": "3.10.13"
  }
 },
 "nbformat": 4,
 "nbformat_minor": 5
}
