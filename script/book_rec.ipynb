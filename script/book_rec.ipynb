{
 "cells": [
  {
   "cell_type": "code",
   "execution_count": 1,
   "id": "eba46d8b-8cac-4242-9c31-105782d5ce9e",
   "metadata": {
    "editable": true,
    "slideshow": {
     "slide_type": ""
    },
    "tags": []
   },
   "outputs": [],
   "source": [
    "import pandas as pd\n",
    "import numpy as np\n",
    "#import argparse\n",
    "\n",
    "#parser = argparse.ArgumentParser(description='Brief description of program.')\n",
    "#parser.add_argument('-d', type=str, metavar='<path>', help='input director')\n",
    "#parser.add_argument('-o', type=str, metavar='<path>', help='output director')\n",
    "#arg = parser.parse_args()\n",
    "d = '../input/dataset'\n",
    "o = '../output'\n",
    "\n",
    "def load_data():\n",
    "    # Load Ratings Data\n",
    "    ratings = pd.read_csv(f'{d}/ratings.csv')\n",
    "    print(\"Ratings Data Loaded\")\n",
    "    print(ratings.head())\n",
    "\n",
    "    # Load Books Data\n",
    "#    books = pd.read_csv(f'{d}/books.csv')\n",
    "#    print(\"\\nBooks Data Loaded\")\n",
    "#    print(books.head())\n",
    "\n",
    "    # Load Book Tags Data\n",
    "#    book_tags = pd.read_csv(f'{d}/book_tags.csv')\n",
    "#    print(\"\\nBook Tags Data Loaded\")\n",
    "#    print(book_tags.head())\n",
    "\n",
    "    # Load Tags Data\n",
    "#    tags = pd.read_csv(f'{d}/tags.csv')\n",
    "#    print(\"\\nTags Data Loaded\")\n",
    "#    print(tags.head())\n",
    "\n",
    "    # Load To-Read Data\n",
    "#    to_read = pd.read_csv(f'{d}/to_read.csv')\n",
    "#    print(\"\\nTo-Read Data Loaded\")\n",
    "#    print(to_read.head())\n",
    "\n",
    "#    return ratings, books, book_tags, tags, to_rea\n",
    "    return ratings\n"
   ]
  },
  {
   "cell_type": "code",
   "execution_count": 2,
   "id": "041b0d28-c6f1-4180-ad59-40961267cdd9",
   "metadata": {
    "editable": true,
    "slideshow": {
     "slide_type": ""
    },
    "tags": []
   },
   "outputs": [
    {
     "name": "stdout",
     "output_type": "stream",
     "text": [
      "Ratings Data Loaded\n",
      "   user_id  book_id  rating\n",
      "0        1      258       5\n",
      "1        2     4081       4\n",
      "2        2      260       5\n",
      "3        2     9296       5\n",
      "4        2     2318       3\n"
     ]
    }
   ],
   "source": [
    "# Call the function to load data\n",
    "#ratings, books, book_tags, tags, to_read = load_data()\n",
    "ratings = load_data()\n",
    "\n",
    "# Create the rating matrix (users x books)\n",
    "num_users = ratings['user_id'].max()\n",
    "num_books = ratings['book_id'].max()\n",
    "\n",
    "# Initialize a matrix of zeros\n",
    "rating_matrix = np.zeros((num_users, num_books))\n",
    "\n",
    "# Populate the matrix with ratings\n",
    "for row in ratings.itertuples():\n",
    "    rating_matrix[row.user_id - 1, row.book_id - 1] = row.rating\n"
   ]
  },
  {
   "cell_type": "code",
   "execution_count": null,
   "id": "cf5d12dd-ef32-42d6-9725-f48bd4ba5ebc",
   "metadata": {
    "editable": true,
    "slideshow": {
     "slide_type": ""
    },
    "tags": []
   },
   "outputs": [],
   "source": [
    "def matrix_factorization(R, K, steps=5000, alpha=0.0002, beta=0.02):\n",
    "    num_users, num_books = R.shape\n",
    "    P = np.random.rand(num_users, K)\n",
    "    Q = np.random.rand(num_books, K)\n",
    "\n",
    "    Q = Q.T  # Transpose Q for ease of calculation\n",
    "\n",
    "    for step in range(steps):\n",
    "        for i in range(num_users):\n",
    "            for j in range(num_books):\n",
    "                if R[i][j] > 0:\n",
    "                    eij = R[i][j] - np.dot(P[i, :], Q[:, j])\n",
    "\n",
    "                    for k in range(K):\n",
    "                        P[i][k] += alpha * (2 * eij * Q[k][j] - beta * P[i][k])\n",
    "                        Q[k][j] += alpha * (2 * eij * P[i][k] - beta * Q[k][j])\n",
    "\n",
    "        # Error calculation\n",
    "        eR = np.dot(P, Q)\n",
    "        e = np.sum((R[np.where(R > 0)] - eR[np.where(R > 0)]) ** 2) # We only take those not equal to 0 and square every such element in array. And finally get the sum of these elements\n",
    "        # Regularization\n",
    "        for i in range(num_users):\n",
    "            for k in range(K):\n",
    "                e += (beta / 2) * (P[i][k] ** 2)\n",
    "        for j in range(num_books):\n",
    "            for k in range(K):\n",
    "                e += (beta / 2) * (Q[k][j] ** 2)\n",
    "\n",
    "        if e < 0.001:\n",
    "            break\n",
    "\n",
    "    return P, Q.T\n",
    "\n",
    "# Number of latent factors\n",
    "K = 2\n",
    "\n",
    "# Perform matrix factorization\n",
    "P, Q = matrix_factorization(rating_matrix, K)\n",
    "\n",
    "# Save matrix\n",
    "np.savetxt(f'{o}/P.csv', P, delimiter=',')\n",
    "np.savetxt(f'{o}/Q.csv', Q, delimiter=',')\n"
   ]
  },
  {
   "cell_type": "code",
   "execution_count": null,
   "id": "3a421e12-296d-48ec-91b2-cdad5d80faa9",
   "metadata": {},
   "outputs": [],
   "source": [
    "# Prediction and Error Calculation\n",
    "\n",
    "# Predict the complete rating matrix\n",
    "predicted_ratings = np.dot(P, Q.T)\n",
    "\n",
    "# Calculate the prediction error\n",
    "actual_ratings = rating_matrix[np.where(rating_matrix > 0)]\n",
    "predicted_ratings = predicted_ratings[np.where(rating_matrix > 0)]\n",
    "error = np.sqrt(np.mean((actual_ratings - predicted_ratings) ** 2))\n",
    "\n",
    "print(\"Prediction Error:\", error)"
   ]
  }
 ],
 "metadata": {
  "kernelspec": {
   "display_name": "Python 3 (ipykernel)",
   "language": "python",
   "name": "python3"
  },
  "language_info": {
   "codemirror_mode": {
    "name": "ipython",
    "version": 3
   },
   "file_extension": ".py",
   "mimetype": "text/x-python",
   "name": "python",
   "nbconvert_exporter": "python",
   "pygments_lexer": "ipython3",
   "version": "3.11.3"
  }
 },
 "nbformat": 4,
 "nbformat_minor": 5
}
