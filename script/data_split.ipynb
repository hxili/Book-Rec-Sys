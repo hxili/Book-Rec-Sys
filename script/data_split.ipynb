{
 "cells": [
  {
   "cell_type": "code",
   "execution_count": 2,
   "id": "8a36e4b1-dbd6-4afc-a211-c265d4d75bdc",
   "metadata": {
    "ExecutionIndicator": {
     "show": true
    },
    "execution": {
     "iopub.execute_input": "2024-01-02T03:40:26.868535Z",
     "iopub.status.busy": "2024-01-02T03:40:26.868186Z",
     "iopub.status.idle": "2024-01-02T03:40:31.612904Z",
     "shell.execute_reply": "2024-01-02T03:40:31.612389Z",
     "shell.execute_reply.started": "2024-01-02T03:40:26.868513Z"
    },
    "tags": []
   },
   "outputs": [
    {
     "name": "stdout",
     "output_type": "stream",
     "text": [
      "Ratings Data Loaded\n",
      "Training and test data saved as CSV files.\n"
     ]
    }
   ],
   "source": [
    "import pandas as pd\n",
    "from sklearn.model_selection import train_test_split\n",
    "import os\n",
    "\n",
    "# Replace with the actual path of your ratings file\n",
    "input_dir = '/mnt/workspace/Book-Rec-Sys/input/dataset'\n",
    "ratings_file = os.path.join(input_dir, 'ratings.csv')\n",
    "\n",
    "# Replace with the paths where you want to save the train and test data\n",
    "output_dir = '/mnt/workspace/Book-Rec-Sys/input'\n",
    "train_file = os.path.join(output_dir, 'train_data.csv')\n",
    "test_file = os.path.join(output_dir, 'test_data.csv')\n",
    "\n",
    "def load_data(file_path):\n",
    "    if os.path.exists(file_path):\n",
    "        ratings = pd.read_csv(file_path)\n",
    "        print(\"Ratings Data Loaded\")\n",
    "        return ratings\n",
    "    else:\n",
    "        print(f\"File not found: {file_path}\")\n",
    "        return None\n",
    "\n",
    "ratings = load_data(ratings_file)\n",
    "if ratings is not None:\n",
    "    # Splitting the data into training and test sets (80% train, 20% test)\n",
    "    train_data, test_data = train_test_split(ratings, test_size=0.2, random_state=42)\n",
    "\n",
    "    # Check if output directory exists, if not, create it\n",
    "    if not os.path.exists(output_dir):\n",
    "        os.makedirs(output_dir)\n",
    "\n",
    "    # Save training and test data to CSV files\n",
    "    train_data.to_csv(train_file, index=False)\n",
    "    test_data.to_csv(test_file, index=False)\n",
    "\n",
    "    print(\"Training and test data saved as CSV files.\")\n"
   ]
  }
 ],
 "metadata": {
  "kernelspec": {
   "display_name": "Python 3 (ipykernel)",
   "language": "python",
   "name": "python3"
  },
  "language_info": {
   "codemirror_mode": {
    "name": "ipython",
    "version": 3
   },
   "file_extension": ".py",
   "mimetype": "text/x-python",
   "name": "python",
   "nbconvert_exporter": "python",
   "pygments_lexer": "ipython3",
   "version": "3.10.13"
  }
 },
 "nbformat": 4,
 "nbformat_minor": 5
}
